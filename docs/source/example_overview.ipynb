{
 "cells": [
  {
   "metadata": {},
   "cell_type": "markdown",
   "source": [
    "# Overview plot [^download]\n",
    "\n",
    "[^download]: This notebook can be downloaded as **{nb-download}\n",
    "repr(example_overview.ipynb) **.\n",
    "\n",
    "This very simple example shows you how to make an overview plot provided a yaml configuration file and a result csv."
   ],
   "id": "d14fd8bc4568bc"
  },
  {
   "metadata": {},
   "cell_type": "code",
   "source": [
    "from pathlib import Path\n",
    "import matplotlib.pyplot as plt\n",
    "from post_processing.dataclass.data_aplose import DataAplose"
   ],
   "id": "6a230b00c14cc64e",
   "outputs": [],
   "execution_count": null
  },
  {
   "metadata": {},
   "cell_type": "markdown",
   "source": "### Load data",
   "id": "4b10aaa427d1da6e"
  },
  {
   "metadata": {},
   "cell_type": "code",
   "source": [
    "yaml_file = Path(r\"resource/APOCADO_yaml.yml\")\n",
    "data = DataAplose.from_yaml(file=yaml_file)"
   ],
   "id": "c19ddde8bf965ee8",
   "outputs": [],
   "execution_count": null
  },
  {
   "metadata": {},
   "cell_type": "markdown",
   "source": "### Overview",
   "id": "e17cf669b1d31019"
  },
  {
   "metadata": {},
   "cell_type": "code",
   "source": [
    "data.overview()\n",
    "plt.tight_layout()\n",
    "plt.show()"
   ],
   "id": "cf59962e0e23eb96",
   "outputs": [],
   "execution_count": null
  }
 ],
 "metadata": {
  "kernelspec": {
   "name": "python3",
   "language": "python",
   "display_name": "Python 3 (ipykernel)"
  }
 },
 "nbformat": 4,
 "nbformat_minor": 9
}
