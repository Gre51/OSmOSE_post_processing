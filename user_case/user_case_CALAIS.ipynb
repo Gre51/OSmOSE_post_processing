{
 "cells": [
  {
   "cell_type": "code",
   "id": "initial_id",
   "metadata": {
    "collapsed": true
   },
   "source": [
    "from pathlib import Path\n",
    "\n",
    "import matplotlib.pyplot as plt\n",
    "import pandas as pd\n",
    "import pytz\n",
    "\n",
    "from post_processing.dataclass.data_aplose import DataAplose\n",
    "from post_processing.utils.fpod_utils import cpod2aplose, usable_data_phase, dpm_to_dph,build_hour_range, fb_folder,csv_folder, meta_cut_aplose\n",
    "from post_processing.utils.core_utils import json2df"
   ],
   "outputs": [],
   "execution_count": null
  },
  {
   "metadata": {},
   "cell_type": "markdown",
   "source": [
    "### Pre-processing\n",
    "\n"
   ],
   "id": "e8e8c57c7f4197fe"
  },
  {
   "metadata": {},
   "cell_type": "code",
   "source": [
    "data = csv_folder(r\"U:\\A\")\n",
    "print(data.head())\n",
    "\n",
    "df_1 = data[data[\"DPM\"]==1]\n",
    "\n",
    "df_aplose = cpod2aplose(df_1, pytz.utc, \"CA4\", \"Commerson\", extra_columns=[\"DPM\", \"deploy.name\"])\n",
    "print(df_aplose.head())"
   ],
   "id": "8636a8a27fe2af47",
   "outputs": [],
   "execution_count": null
  },
  {
   "metadata": {},
   "cell_type": "code",
   "source": [
    "json = Path(r\"C:\\Users\\fouinel\\Downloads\\deployment_kerguelen.json\")\n",
    "metadatax = json2df(json_path=json)\n",
    "\n",
    "metadatax[\"deploy.name\"] = (metadatax[\"site.name\"].astype(str) + \"_\" +\n",
    "                           metadatax[\"campaign.name\"].astype(str))\n",
    "\n",
    "data = meta_cut_aplose(df_aplose, metadatax)\n",
    "\n",
    "df_aplose.to_csv(r\"U:\\APLOSE_A1112.csv\", index=False)"
   ],
   "id": "ed6a06c522aea169",
   "outputs": [],
   "execution_count": null
  },
  {
   "metadata": {},
   "cell_type": "markdown",
   "source": "## Load data",
   "id": "73d08f821cd03ae3"
  },
  {
   "metadata": {},
   "cell_type": "code",
   "source": [
    "yaml_file = Path(r\"resource\\CPOD-FPOD_yaml.yml\")\n",
    "data_list = DataAplose.from_yaml(file=yaml_file)\n",
    "print(data_list.df.head())"
   ],
   "id": "ad94c9baae5a1748",
   "outputs": [],
   "execution_count": null
  },
  {
   "metadata": {},
   "cell_type": "markdown",
   "source": [
    "## Create a detection per hour dataframe\n",
    "\n"
   ],
   "id": "4d6b640178d7563"
  },
  {
   "metadata": {},
   "cell_type": "code",
   "source": "dph = dpm_to_dph(data_list.df, extra_columns=[\"deploy.name\"])",
   "id": "c46fb2201838f42",
   "outputs": [],
   "execution_count": null
  },
  {
   "metadata": {},
   "cell_type": "markdown",
   "source": "## Add the feeding buzzes",
   "id": "8375ddbe07ad0aee"
  },
  {
   "metadata": {},
   "cell_type": "code",
   "source": [
    "fb = fb_folder(r\"U:\\fb_A_NBHF\", \"Commerson\")\n",
    "fb[\"Date heure\"] = fb[\"start_datetime\"].dt.floor(\"h\")\n",
    "fb = fb.groupby(\"Date heure\")[\"Foraging\"].sum().reset_index()\n",
    "\n",
    "d_hour = dph.merge(fb[[\"Date heure\",\"Foraging\"]], on=\"Date heure\", how=\"left\")"
   ],
   "id": "2b19f90c99252ff3",
   "outputs": [],
   "execution_count": null
  },
  {
   "metadata": {},
   "cell_type": "code",
   "source": [
    "new = build_hour_range(dph)\n",
    "final_df = new.merge(d_hour, on=[\"deploy.name\", \"Date heure\"], how = \"left\")\n",
    "\n",
    "final_df[[\"DPM\",\"Foraging\"]] = final_df[[\"DPM\",\"Foraging\"]].fillna(0)\n",
    "print(final_df.head())"
   ],
   "id": "f93bf1f3ca4f4112",
   "outputs": [],
   "execution_count": null
  },
  {
   "metadata": {},
   "cell_type": "code",
   "source": [
    "final_df[\"Year\"] = final_df[\"Date heure\"].dt.year\n",
    "final_df[\"Month\"] = final_df[\"Date heure\"].dt.month\n",
    "final_df[\"Day\"] = final_df[\"Date heure\"].dt.day\n",
    "final_df[\"Hour\"] = final_df[\"Date heure\"].dt.hour\n",
    "\n",
    "final_df[\"FBR\"] = final_df[\"Foraging\"] / final_df[\"DPM\"]"
   ],
   "id": "a2261ce5093a3104",
   "outputs": [],
   "execution_count": null
  },
  {
   "metadata": {},
   "cell_type": "code",
   "source": [
    "final_df[\"FBR\"] = final_df[\"FBR\"].fillna(0)\n",
    "final_df.to_csv(r\"U:\\Hours_DPM_FBUZZ_SiteA1112.csv\", index=False)"
   ],
   "id": "d606f4f6904b57c6",
   "outputs": [],
   "execution_count": null
  }
 ],
 "metadata": {
  "kernelspec": {
   "display_name": "Python 3",
   "language": "python",
   "name": "python3"
  },
  "language_info": {
   "codemirror_mode": {
    "name": "ipython",
    "version": 2
   },
   "file_extension": ".py",
   "mimetype": "text/x-python",
   "name": "python",
   "nbconvert_exporter": "python",
   "pygments_lexer": "ipython2",
   "version": "2.7.6"
  }
 },
 "nbformat": 4,
 "nbformat_minor": 5
}
