{
 "cells": [
  {
   "cell_type": "code",
   "id": "initial_id",
   "metadata": {
    "collapsed": true,
    "ExecuteTime": {
     "end_time": "2025-09-09T14:50:36.642346Z",
     "start_time": "2025-09-09T14:50:36.638397Z"
    }
   },
   "source": [
    "from pathlib import Path\n",
    "\n",
    "import matplotlib.pyplot as plt\n",
    "import pandas as pd\n",
    "import pytz\n",
    "\n",
    "from post_processing.dataclass.data_aplose import DataAplose\n",
    "from post_processing.utils.fpod_utils import cpod2aplose, usable_data_phase, dpm_to_dph,build_hour_range, fb_folder,csv_folder, meta_cut_aplose\n",
    "from post_processing.utils.core_utils import json2df"
   ],
   "outputs": [],
   "execution_count": 21
  },
  {
   "metadata": {},
   "cell_type": "markdown",
   "source": [
    "### Pre-processing\n",
    "\n"
   ],
   "id": "e8e8c57c7f4197fe"
  },
  {
   "metadata": {
    "ExecuteTime": {
     "end_time": "2025-09-09T14:51:43.424921Z",
     "start_time": "2025-09-09T14:50:38.447445Z"
    }
   },
   "cell_type": "code",
   "source": [
    "data = csv_folder(r\"U:\\A\")\n",
    "print(data.head())\n",
    "\n",
    "df_1 = data.dropna()\n",
    "\n",
    "df_aplose = cpod2aplose(df_1, pytz.utc, \"Site A Haute\", \"Commerson\", extra_columns=[\"DPM\", \"deploy.name\"])\n",
    "print(df_aplose.head())"
   ],
   "id": "8636a8a27fe2af47",
   "outputs": [
    {
     "name": "stdout",
     "output_type": "stream",
     "text": [
      "                                   File          ChunkEnd  DPM  Nall  MinsOn  \\\n",
      "0  Ile Haute Site A  POD3059 file01.CP3  01/12/2022 16:03    0     0       0   \n",
      "1  Ile Haute Site A  POD3059 file01.CP3  01/12/2022 16:04    0     0       0   \n",
      "2  Ile Haute Site A  POD3059 file01.CP3  01/12/2022 16:05    0     0       0   \n",
      "3  Ile Haute Site A  POD3059 file01.CP3  01/12/2022 16:06    0     0       0   \n",
      "4  Ile Haute Site A  POD3059 file01.CP3  01/12/2022 16:07    0     0       0   \n",
      "\n",
      "            deploy.name  \n",
      "0  Site A Haute_Phase11  \n",
      "1  Site A Haute_Phase11  \n",
      "2  Site A Haute_Phase11  \n",
      "3  Site A Haute_Phase11  \n",
      "4  Site A Haute_Phase11  \n",
      "        dataset filename  start_time  end_time  start_frequency  \\\n",
      "0  Site A Haute                    0        60                0   \n",
      "1  Site A Haute                    0        60                0   \n",
      "2  Site A Haute                    0        60                0   \n",
      "3  Site A Haute                    0        60                0   \n",
      "4  Site A Haute                    0        60                0   \n",
      "\n",
      "   end_frequency annotation annotator                start_datetime  \\\n",
      "0              0  Commerson      FPOD  2022-12-01T16:03:00.000+0000   \n",
      "1              0  Commerson      FPOD  2022-12-01T16:04:00.000+0000   \n",
      "2              0  Commerson      FPOD  2022-12-01T16:05:00.000+0000   \n",
      "3              0  Commerson      FPOD  2022-12-01T16:06:00.000+0000   \n",
      "4              0  Commerson      FPOD  2022-12-01T16:07:00.000+0000   \n",
      "\n",
      "                   end_datetime  is_box  DPM           deploy.name  \n",
      "0  2022-12-01T16:04:00.000+0000       0    0  Site A Haute_Phase11  \n",
      "1  2022-12-01T16:05:00.000+0000       0    0  Site A Haute_Phase11  \n",
      "2  2022-12-01T16:06:00.000+0000       0    0  Site A Haute_Phase11  \n",
      "3  2022-12-01T16:07:00.000+0000       0    0  Site A Haute_Phase11  \n",
      "4  2022-12-01T16:08:00.000+0000       0    0  Site A Haute_Phase11  \n"
     ]
    }
   ],
   "execution_count": 22
  },
  {
   "metadata": {
    "ExecuteTime": {
     "end_time": "2025-09-09T14:56:09.883356Z",
     "start_time": "2025-09-09T14:51:52.486050Z"
    }
   },
   "cell_type": "code",
   "source": [
    "json = Path(r\"C:\\Users\\fouinel\\Downloads\\deployment_kerguelen.json\")\n",
    "metadatax = json2df(json_path=json)\n",
    "\n",
    "metadatax[\"deploy.name\"] = (metadatax[\"site.name\"].astype(str) + \"_\" +\n",
    "                           metadatax[\"campaign.name\"].astype(str))\n",
    "\n",
    "cleared = meta_cut_aplose(df_aplose, metadatax)\n",
    "\n",
    "cleared.to_csv(r\"U:\\APLOSE_A.csv\", index=False)"
   ],
   "id": "ed6a06c522aea169",
   "outputs": [],
   "execution_count": 23
  },
  {
   "metadata": {},
   "cell_type": "markdown",
   "source": "## Load data",
   "id": "73d08f821cd03ae3"
  },
  {
   "metadata": {},
   "cell_type": "code",
   "source": [
    "yaml_file = Path(r\"resource\\CPOD-FPOD_yaml.yml\")\n",
    "data_list = DataAplose.from_yaml(file=yaml_file)\n",
    "print(data_list.df.head())"
   ],
   "id": "ad94c9baae5a1748",
   "outputs": [],
   "execution_count": null
  },
  {
   "metadata": {},
   "cell_type": "markdown",
   "source": [
    "## Create a detection per hour dataframe\n",
    "\n"
   ],
   "id": "4d6b640178d7563"
  },
  {
   "metadata": {},
   "cell_type": "code",
   "source": "dph = dpm_to_dph(data_list.df, extra_columns=[\"deploy.name\"])",
   "id": "c46fb2201838f42",
   "outputs": [],
   "execution_count": null
  },
  {
   "metadata": {},
   "cell_type": "markdown",
   "source": "## Add the feeding buzzes",
   "id": "8375ddbe07ad0aee"
  },
  {
   "metadata": {},
   "cell_type": "code",
   "source": [
    "fb = fb_folder(r\"U:\\fb_A_NBHF\", \"Commerson\")\n",
    "fb[\"Date heure\"] = fb[\"start_datetime\"].dt.floor(\"h\")\n",
    "fb = fb.groupby(\"Date heure\")[\"Foraging\"].sum().reset_index()\n",
    "\n",
    "d_hour = dph.merge(fb[[\"Date heure\",\"Foraging\"]], on=\"Date heure\", how=\"left\")"
   ],
   "id": "2b19f90c99252ff3",
   "outputs": [],
   "execution_count": null
  },
  {
   "metadata": {},
   "cell_type": "code",
   "source": [
    "d_hour[[\"DPM\",\"Foraging\"]] = d_hour[[\"DPM\",\"Foraging\"]].fillna(0)\n",
    "print(d_hour.head())"
   ],
   "id": "f93bf1f3ca4f4112",
   "outputs": [],
   "execution_count": null
  },
  {
   "metadata": {},
   "cell_type": "code",
   "source": [
    "d_hour[\"Year\"] = d_hour[\"Date heure\"].dt.year\n",
    "d_hour[\"Month\"] = d_hour[\"Date heure\"].dt.month\n",
    "d_hour[\"Day\"] = d_hour[\"Date heure\"].dt.day\n",
    "d_hour[\"Hour\"] = d_hour[\"Date heure\"].dt.hour\n",
    "\n",
    "d_hour[\"FBR\"] = d_hour[\"Foraging\"] / d_hour[\"DPM\"]"
   ],
   "id": "a2261ce5093a3104",
   "outputs": [],
   "execution_count": null
  },
  {
   "metadata": {},
   "cell_type": "code",
   "source": [
    "d_hour[\"FBR\"] = d_hour[\"FBR\"].fillna(0)\n",
    "d_hour.to_csv(r\"U:\\Hours_DPM_FBUZZ_SiteA.csv\", index=False)"
   ],
   "id": "d606f4f6904b57c6",
   "outputs": [],
   "execution_count": null
  }
 ],
 "metadata": {
  "kernelspec": {
   "display_name": "Python 3",
   "language": "python",
   "name": "python3"
  },
  "language_info": {
   "codemirror_mode": {
    "name": "ipython",
    "version": 2
   },
   "file_extension": ".py",
   "mimetype": "text/x-python",
   "name": "python",
   "nbconvert_exporter": "python",
   "pygments_lexer": "ipython2",
   "version": "2.7.6"
  }
 },
 "nbformat": 4,
 "nbformat_minor": 5
}
