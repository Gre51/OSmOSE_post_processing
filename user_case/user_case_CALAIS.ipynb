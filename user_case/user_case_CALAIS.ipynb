{
 "cells": [
  {
   "cell_type": "code",
   "id": "initial_id",
   "metadata": {
    "collapsed": true,
    "ExecuteTime": {
     "end_time": "2025-09-25T15:14:38.565748Z",
     "start_time": "2025-09-25T15:14:36.291938Z"
    }
   },
   "source": [
    "from pathlib import Path\n",
    "\n",
    "import pytz\n",
    "from pandas import (\n",
    "    concat,\n",
    "    read_csv,\n",
    "    to_datetime,\n",
    ")\n",
    "\n",
    "from post_processing.dataclass.data_aplose import DataAplose\n",
    "from post_processing.utils.fpod_utils import cpod2aplose, fpod2aplose, dpm_to_dp10m, dpm_to_dph, dpm_to_dpd, fb_folder,csv_folder, meta_cut_aplose, date_format,extract_site,percent_calc,site_percent, year_percent, ym_percent, month_percent, hour_percent, actual_data, build_hour_range\n",
    "from post_processing.utils.core_utils import json2df,get_season"
   ],
   "outputs": [],
   "execution_count": 1
  },
  {
   "metadata": {},
   "cell_type": "markdown",
   "source": [
    "### Pre-processing\n",
    "\n"
   ],
   "id": "e8e8c57c7f4197fe"
  },
  {
   "metadata": {
    "ExecuteTime": {
     "end_time": "2025-09-25T15:15:16.539360Z",
     "start_time": "2025-09-25T15:15:15.617231Z"
    }
   },
   "cell_type": "code",
   "source": [
    "data = csv_folder(r\"U:\\D\")\n",
    "print(data.head())\n",
    "\n",
    "df_0 = data.dropna()"
   ],
   "id": "8636a8a27fe2af47",
   "outputs": [
    {
     "name": "stdout",
     "output_type": "stream",
     "text": [
      "                 File          ChunkEnd  DPM  Nall  MinsOn  \\\n",
      "0  POD3042 file01.CP3  21/10/2019 12:11    0     0       0   \n",
      "1  POD3042 file01.CP3  21/10/2019 12:12    0     0       0   \n",
      "2  POD3042 file01.CP3  21/10/2019 12:13    0     0       0   \n",
      "3  POD3042 file01.CP3  21/10/2019 12:14    0     0       0   \n",
      "4  POD3042 file01.CP3  21/10/2019 12:15    0     0       0   \n",
      "\n",
      "            deploy.name  \n",
      "0  Site D Simone_Phase1  \n",
      "1  Site D Simone_Phase1  \n",
      "2  Site D Simone_Phase1  \n",
      "3  Site D Simone_Phase1  \n",
      "4  Site D Simone_Phase1  \n"
     ]
    }
   ],
   "execution_count": 3
  },
  {
   "metadata": {
    "ExecuteTime": {
     "end_time": "2025-09-25T15:16:18.967295Z",
     "start_time": "2025-09-25T15:15:37.397762Z"
    }
   },
   "cell_type": "code",
   "source": "d_beg_end = actual_data(df_0, col_timestamp=\"ChunkEnd\")",
   "id": "4208969d9e509a8",
   "outputs": [],
   "execution_count": 5
  },
  {
   "metadata": {
    "ExecuteTime": {
     "end_time": "2025-09-25T15:16:22.557433Z",
     "start_time": "2025-09-25T15:16:22.552202Z"
    }
   },
   "cell_type": "code",
   "source": "df_1 = df_0[df_0[\"DPM\"] !=0 ]",
   "id": "597efd1d90e3d069",
   "outputs": [],
   "execution_count": 6
  },
  {
   "metadata": {},
   "cell_type": "markdown",
   "source": "## APLOSE format",
   "id": "4f8c83c96f0b6ff4"
  },
  {
   "metadata": {},
   "cell_type": "markdown",
   "source": "#### *CPOD*",
   "id": "8ed339c688bdef1"
  },
  {
   "metadata": {},
   "cell_type": "code",
   "source": [
    "df_aplose = cpod2aplose(df_1, pytz.utc, \"Site D Simone\", \"Commerson\", extra_columns=[\"deploy.name\"])\n",
    "print(df_aplose.head())"
   ],
   "id": "812ed7c0c5e258e7",
   "outputs": [],
   "execution_count": null
  },
  {
   "metadata": {},
   "cell_type": "markdown",
   "source": "#### *FPOD*",
   "id": "a39bb10d8ac60a27"
  },
  {
   "metadata": {},
   "cell_type": "code",
   "outputs": [],
   "execution_count": null,
   "source": [
    "df_aplose = fpod2aplose(df_1, pytz.utc, \"CETIROISE\", \"Marsouin\")\n",
    "print(df_aplose.head())"
   ],
   "id": "9b632673397a184"
  },
  {
   "metadata": {},
   "cell_type": "markdown",
   "source": "## Remove non usable lines",
   "id": "7860838f8514da39"
  },
  {
   "metadata": {},
   "cell_type": "code",
   "source": [
    "json = Path(r\"C:\\Users\\fouinel\\Downloads\\deployment_kerguelen.json\")\n",
    "metadatax = json2df(json_path=json)\n",
    "\n",
    "metadatax[\"deploy.name\"] = (metadatax[\"site.name\"].astype(str) + \"_\" +\n",
    "                           metadatax[\"campaign.name\"].astype(str))\n",
    "\n",
    "cleared = meta_cut_aplose(df_aplose, metadatax)"
   ],
   "id": "ed6a06c522aea169",
   "outputs": [],
   "execution_count": null
  },
  {
   "metadata": {},
   "cell_type": "code",
   "source": "cleared.to_csv(r\"U:\\APLOSE_D.csv\", index=False)",
   "id": "76f70cb6c6658ba6",
   "outputs": [],
   "execution_count": null
  },
  {
   "metadata": {},
   "cell_type": "markdown",
   "source": "## Load data\n",
   "id": "f5d38266dc9d5273"
  },
  {
   "metadata": {},
   "cell_type": "code",
   "outputs": [],
   "execution_count": null,
   "source": [
    "yaml_file = Path(r\"resource\\CPOD-FPOD_yaml.yml\")\n",
    "data_list = DataAplose.from_yaml(file=yaml_file)\n",
    "print(data_list.df.head())"
   ],
   "id": "6837593897111b0a"
  },
  {
   "metadata": {},
   "cell_type": "markdown",
   "source": "## Format choice\n",
   "id": "9f93eb863e3e3a9e"
  },
  {
   "metadata": {},
   "cell_type": "code",
   "outputs": [],
   "execution_count": null,
   "source": [
    "dp10 = dpm_to_dp10m(data_list.df, extra_columns=[\"deploy.name\"])\n",
    "dp10 = date_format(dp10)"
   ],
   "id": "a27ceea1fefdd298"
  },
  {
   "metadata": {},
   "cell_type": "code",
   "outputs": [],
   "execution_count": null,
   "source": [
    "dph = dpm_to_dph(data_list.df, extra_columns=[\"deploy.name\"])\n",
    "dph = date_format(dph)"
   ],
   "id": "6cc79b2aeef076ed"
  },
  {
   "metadata": {},
   "cell_type": "code",
   "outputs": [],
   "execution_count": null,
   "source": [
    "dpd = dpm_to_dpd(data_list.df, extra_columns=[\"deploy.name\"])\n",
    "dpd = date_format(dpd)"
   ],
   "id": "e6655c36fc1851c7"
  },
  {
   "metadata": {},
   "cell_type": "markdown",
   "source": "## Add the feeding buzzes",
   "id": "8375ddbe07ad0aee"
  },
  {
   "metadata": {},
   "cell_type": "code",
   "source": [
    "fb_all = fb_folder(r\"U:\\fb_D_NBHF\", \"Commerson\")\n",
    "fb_all[\"start_datetime\"] = fb_all[\"start_datetime\"].dt.floor(\"h\")\n",
    "fb = fb_all.groupby(\"start_datetime\")[\"Foraging\"].sum().reset_index()\n"
   ],
   "id": "2b19f90c99252ff3",
   "outputs": [],
   "execution_count": null
  },
  {
   "metadata": {},
   "cell_type": "code",
   "outputs": [],
   "execution_count": null,
   "source": [
    "d_hour = build_hour_range(d_beg_end)\n",
    "d_tot = dph.merge(fb, on=\"start_datetime\", how=\"left\")"
   ],
   "id": "b00c8f1e2210ea7"
  },
  {
   "metadata": {},
   "cell_type": "code",
   "source": [
    "d_hour[[\"DPM\",\"Foraging\"]] = d_hour[[\"DPM\",\"Foraging\"]].fillna(0)\n",
    "print(d_hour.head())"
   ],
   "id": "f93bf1f3ca4f4112",
   "outputs": [],
   "execution_count": null
  },
  {
   "metadata": {},
   "cell_type": "markdown",
   "source": "## Add time columns",
   "id": "c7b1d32ed1c99fb7"
  },
  {
   "metadata": {},
   "cell_type": "code",
   "source": [
    "d_hour[\"Year\"] = d_hour[\"start_datetime\"].dt.year\n",
    "d_hour[\"Month\"] = d_hour[\"start_datetime\"].dt.month\n",
    "d_hour['YM'] = d_hour['Year'].astype(str) + '-' + d_hour['Month'].astype(str)\n",
    "d_hour['YM'] = to_datetime(d_hour['YM'])\n",
    "d_hour[\"Day\"] = d_hour[\"start_datetime\"].dt.day\n",
    "d_hour[\"Hour\"] = d_hour[\"start_datetime\"].dt.hour\n",
    "\n",
    "d_hour[\"FBR\"] = d_hour[\"Foraging\"] / d_hour[\"DPM\"]\n",
    "d_hour[\"DPH\"] = (d_hour[\"DPM\"] >0).astype(int)"
   ],
   "id": "a2261ce5093a3104",
   "outputs": [],
   "execution_count": null
  },
  {
   "metadata": {},
   "cell_type": "code",
   "source": [
    "d_hour[\"FBR\"] = d_hour[\"FBR\"].fillna(0)\n",
    "d_hour.to_csv(r\"U:\\Hours_DPM_FBUZZ_SiteD.csv\", index=False)"
   ],
   "id": "d606f4f6904b57c6",
   "outputs": [],
   "execution_count": null
  },
  {
   "metadata": {},
   "cell_type": "markdown",
   "source": "## Overview",
   "id": "4bc0904182a3f845"
  },
  {
   "metadata": {},
   "cell_type": "code",
   "source": [
    "ca4 = read_csv(r\"U:\\Hours_DPM_FBUZZ_SiteCA4.csv\")\n",
    "walde = read_csv(r\"U:\\Hours_DPM_FBUZZ_SiteWalde.csv\")\n",
    "\n",
    "data_k = concat([ca4, walde])\n",
    "data_k['YM'] = data_k['Year'].astype(str) + '-' + data_k['Month'].astype(str)\n",
    "data_k['YM'] = to_datetime(data_k['YM'])"
   ],
   "id": "9909fbfdcb8e2e78",
   "outputs": [],
   "execution_count": null
  },
  {
   "metadata": {},
   "cell_type": "code",
   "source": [
    "a = read_csv(r\"U:\\Hours_DPM_FBUZZ_SiteA.csv\")\n",
    "b = read_csv(r\"U:\\Hours_DPM_FBUZZ_SiteB.csv\")\n",
    "c = read_csv(r\"U:\\Hours_DPM_FBUZZ_SiteC.csv\")\n",
    "d = read_csv(r\"U:\\Hours_DPM_FBUZZ_SiteD.csv\")\n",
    "\n",
    "data_k = concat([a, b, c, d])\n",
    "data_k[\"start_datetime\"] = to_datetime(data_k[\"start_datetime\"])\n",
    "data_k[\"start_datetime\"] = data_k[\"start_datetime\"].apply(lambda x : x.tz_convert(\"Indian/Kerguelen\"))\n",
    "data_k[\"Hour\"] = data_k[\"start_datetime\"].dt.hour"
   ],
   "id": "87e2d1938787aefc",
   "outputs": [],
   "execution_count": null
  },
  {
   "metadata": {},
   "cell_type": "code",
   "source": [
    "data_k = extract_site(data_k)\n",
    "y_per = percent_calc(data_k, \"Year\")\n",
    "ym_per = percent_calc(data_k, \"YM\")\n",
    "ym_per[\"YM\"] = to_datetime(ym_per[\"YM\"])\n",
    "ym_per[\"Season\"] = ym_per[\"YM\"].apply(lambda x: get_season(x)[0])\n",
    "m_per = percent_calc(data_k, \"Month\")\n",
    "h_per = percent_calc(data_k, \"Hour\")\n",
    "s_per = percent_calc(data_k)"
   ],
   "id": "2826b79097a85607",
   "outputs": [],
   "execution_count": null
  },
  {
   "metadata": {},
   "cell_type": "code",
   "source": "site_percent(s_per, \"%click\")",
   "id": "ddd1fac6295136c6",
   "outputs": [],
   "execution_count": null
  },
  {
   "metadata": {},
   "cell_type": "code",
   "source": "year_percent(y_per, \"%click\")",
   "id": "ba7581e97fdbd07c",
   "outputs": [],
   "execution_count": null
  },
  {
   "metadata": {},
   "cell_type": "code",
   "source": "ym_percent(ym_per, \"%click\")",
   "id": "4de618933c154f86",
   "outputs": [],
   "execution_count": null
  },
  {
   "metadata": {},
   "cell_type": "code",
   "source": "month_percent(m_per, \"%buzzes\")",
   "id": "7cf84c8744185424",
   "outputs": [],
   "execution_count": null
  },
  {
   "metadata": {},
   "cell_type": "code",
   "source": "hour_percent(h_per, \"%click\")",
   "id": "12d83e9082d711c0",
   "outputs": [],
   "execution_count": null
  }
 ],
 "metadata": {
  "kernelspec": {
   "display_name": "Python 3",
   "language": "python",
   "name": "python3"
  },
  "language_info": {
   "codemirror_mode": {
    "name": "ipython",
    "version": 2
   },
   "file_extension": ".py",
   "mimetype": "text/x-python",
   "name": "python",
   "nbconvert_exporter": "python",
   "pygments_lexer": "ipython2",
   "version": "2.7.6"
  }
 },
 "nbformat": 4,
 "nbformat_minor": 5
}
